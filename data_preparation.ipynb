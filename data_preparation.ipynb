{
 "cells": [
  {
   "cell_type": "markdown",
   "metadata": {},
   "source": [
    "# Networks Assignment \n",
    "\n",
    "---\n",
    "\n",
    "> Nikolaos Antonopoulos <br />\n",
    "> Department of Management Science and Technology <br />\n",
    "> Athens University of Economics and Business <br />\n",
    "> antonopoulosn@hotmail.com"
   ]
  },
  {
   "cell_type": "markdown",
   "metadata": {},
   "source": [
    "### Importing some packages"
   ]
  },
  {
   "cell_type": "code",
   "execution_count": 23,
   "metadata": {},
   "outputs": [],
   "source": [
    "import pandas as pd\n",
    "import os\n",
    "import xlsxwriter"
   ]
  },
  {
   "cell_type": "markdown",
   "metadata": {},
   "source": [
    "* We want to get the countries with the most imports for the year 2019.  \n",
    "* Going to [Wikipedia](https://en.wikipedia.org/wiki/List_of_countries_by_imports), we notice that the recent data are for 2020.  \n",
    "* Luckily, through wikipedia you can visit the older version of sites.  \n",
    "* So, we go to the appropriate version of [Wikipedia](https://en.wikipedia.org/w/index.php?title=List_of_countries_by_imports&oldid=987487172) and we use <u> scraping</u> to get the top countries. "
   ]
  },
  {
   "cell_type": "code",
   "execution_count": 24,
   "metadata": {},
   "outputs": [],
   "source": [
    "import requests\n",
    "from bs4 import BeautifulSoup\n",
    "r = requests.get(\"https://en.wikipedia.org/w/index.php?title=List_of_countries_by_imports&oldid=987487172\")\n",
    "html = r.text\n",
    "soup = BeautifulSoup(html, 'html.parser')"
   ]
  },
  {
   "cell_type": "markdown",
   "metadata": {},
   "source": [
    "* We get the countries, ascended by imports amount"
   ]
  },
  {
   "cell_type": "code",
   "execution_count": 25,
   "metadata": {},
   "outputs": [],
   "source": [
    "flag = False\n",
    "world_countires = []\n",
    "review_titles_list = soup.find_all(\"a\")\n",
    "for review_title in review_titles_list:\n",
    "    if (flag==True):\n",
    "        if all(x.isalpha() or x.isspace() for x in review_title.get_text()):\n",
    "            world_countires.append(review_title.get_text())\n",
    "    if (review_title.get_text()=='[1]'):\n",
    "        flag = True\n",
    "    if (len(world_countires) >= 180):\n",
    "        break\n"
   ]
  },
  {
   "cell_type": "markdown",
   "metadata": {},
   "source": [
    "* The list, now looks like this"
   ]
  },
  {
   "cell_type": "code",
   "execution_count": 26,
   "metadata": {},
   "outputs": [
    {
     "data": {
      "text/plain": [
       "['United States', 'European Union', 'China', 'Germany', 'Japan', 'France']"
      ]
     },
     "execution_count": 26,
     "metadata": {},
     "output_type": "execute_result"
    }
   ],
   "source": [
    "world_countires[:6]"
   ]
  },
  {
   "cell_type": "markdown",
   "metadata": {},
   "source": [
    "* Creating an array of the directory with the xlsx files"
   ]
  },
  {
   "cell_type": "code",
   "execution_count": 28,
   "metadata": {},
   "outputs": [],
   "source": [
    "list_of_excel_sheets=[]\n",
    "for filename in os.listdir(\"Excel_countries/top100\"):\n",
    "        list_of_excel_sheets.append(filename)"
   ]
  },
  {
   "cell_type": "markdown",
   "metadata": {},
   "source": [
    "* Creating an array with the countries names without the xlsx."
   ]
  },
  {
   "cell_type": "code",
   "execution_count": 29,
   "metadata": {},
   "outputs": [],
   "source": [
    "excel_names_without_xlsx = list_of_excel_sheets.copy()\n",
    "counter = 0\n",
    "for i in excel_names_without_xlsx:\n",
    "    excel_names_without_xlsx[counter] = i[:-5]\n",
    "    counter = counter + 1"
   ]
  },
  {
   "cell_type": "markdown",
   "metadata": {},
   "source": [
    "* We replace some country names, with the official ones"
   ]
  },
  {
   "cell_type": "markdown",
   "metadata": {},
   "source": [
    "We also need to rename some countries, with their official name.  \n",
    "This action is needed so they can match with our csv files."
   ]
  },
  {
   "cell_type": "code",
   "execution_count": 30,
   "metadata": {},
   "outputs": [],
   "source": [
    "dic = {'Hong Kong':'Hong Kong, China', 'Russia':'Russian Federation', 'Slovakia':'Slovak Republic','Egypt':'Egypt, Arab Rep.','South Korea':'Korea, Rep.',\n",
    "'Serbia':'Serbia, FR(SerbiaMontenegro)','Macau':'Macao'}\n",
    "world_countires = [dic.get(n, n) for n in world_countires]"
   ]
  },
  {
   "cell_type": "markdown",
   "metadata": {},
   "source": [
    "#### Let's now do find the top 10 importers for each country"
   ]
  },
  {
   "cell_type": "markdown",
   "metadata": {},
   "source": [
    "Assigning id for each country"
   ]
  },
  {
   "cell_type": "code",
   "execution_count": 31,
   "metadata": {},
   "outputs": [],
   "source": [
    "def my_function(x):\n",
    "    if x in excel_names_without_xlsx:\n",
    "        return True\n",
    "    else:\n",
    "        return False\n",
    "world_countires = [x for x in world_countires if my_function(x)]"
   ]
  },
  {
   "cell_type": "markdown",
   "metadata": {},
   "source": [
    "* How many countries do i want"
   ]
  },
  {
   "cell_type": "code",
   "execution_count": 32,
   "metadata": {},
   "outputs": [],
   "source": [
    "world_countires = world_countires[:80]"
   ]
  },
  {
   "cell_type": "code",
   "execution_count": 33,
   "metadata": {},
   "outputs": [],
   "source": [
    "country_id  = pd.DataFrame(data=world_countires)\n",
    "country_id.reset_index(inplace=True)\n",
    "country_id.rename(columns = {0:'Label','index':'Id'}, inplace = True)"
   ]
  },
  {
   "cell_type": "code",
   "execution_count": 34,
   "metadata": {},
   "outputs": [],
   "source": [
    "column_names = ['Source','Target','Type','Weight']"
   ]
  },
  {
   "cell_type": "code",
   "execution_count": 37,
   "metadata": {},
   "outputs": [
    {
     "data": {
      "text/html": [
       "<div>\n",
       "<style scoped>\n",
       "    .dataframe tbody tr th:only-of-type {\n",
       "        vertical-align: middle;\n",
       "    }\n",
       "\n",
       "    .dataframe tbody tr th {\n",
       "        vertical-align: top;\n",
       "    }\n",
       "\n",
       "    .dataframe thead th {\n",
       "        text-align: right;\n",
       "    }\n",
       "</style>\n",
       "<table border=\"1\" class=\"dataframe\">\n",
       "  <thead>\n",
       "    <tr style=\"text-align: right;\">\n",
       "      <th></th>\n",
       "      <th>Source</th>\n",
       "      <th>Target</th>\n",
       "      <th>Type</th>\n",
       "      <th>Weight</th>\n",
       "    </tr>\n",
       "  </thead>\n",
       "  <tbody>\n",
       "    <tr>\n",
       "      <th>0</th>\n",
       "      <td>27</td>\n",
       "      <td>48</td>\n",
       "      <td>Directed</td>\n",
       "      <td>10552232.0</td>\n",
       "    </tr>\n",
       "    <tr>\n",
       "      <th>0</th>\n",
       "      <td>1</td>\n",
       "      <td>48</td>\n",
       "      <td>Directed</td>\n",
       "      <td>7392262.0</td>\n",
       "    </tr>\n",
       "    <tr>\n",
       "      <th>0</th>\n",
       "      <td>0</td>\n",
       "      <td>48</td>\n",
       "      <td>Directed</td>\n",
       "      <td>5120074.0</td>\n",
       "    </tr>\n",
       "    <tr>\n",
       "      <th>0</th>\n",
       "      <td>43</td>\n",
       "      <td>48</td>\n",
       "      <td>Directed</td>\n",
       "      <td>3537027.0</td>\n",
       "    </tr>\n",
       "    <tr>\n",
       "      <th>0</th>\n",
       "      <td>17</td>\n",
       "      <td>48</td>\n",
       "      <td>Directed</td>\n",
       "      <td>3249418.0</td>\n",
       "    </tr>\n",
       "    <tr>\n",
       "      <th>...</th>\n",
       "      <td>...</td>\n",
       "      <td>...</td>\n",
       "      <td>...</td>\n",
       "      <td>...</td>\n",
       "    </tr>\n",
       "    <tr>\n",
       "      <th>0</th>\n",
       "      <td>5</td>\n",
       "      <td>17</td>\n",
       "      <td>Directed</td>\n",
       "      <td>6017699.0</td>\n",
       "    </tr>\n",
       "    <tr>\n",
       "      <th>0</th>\n",
       "      <td>12</td>\n",
       "      <td>17</td>\n",
       "      <td>Directed</td>\n",
       "      <td>5266632.0</td>\n",
       "    </tr>\n",
       "    <tr>\n",
       "      <th>0</th>\n",
       "      <td>20</td>\n",
       "      <td>17</td>\n",
       "      <td>Directed</td>\n",
       "      <td>5010304.0</td>\n",
       "    </tr>\n",
       "    <tr>\n",
       "      <th>0</th>\n",
       "      <td>22</td>\n",
       "      <td>17</td>\n",
       "      <td>Directed</td>\n",
       "      <td>4726448.0</td>\n",
       "    </tr>\n",
       "    <tr>\n",
       "      <th>0</th>\n",
       "      <td>36</td>\n",
       "      <td>17</td>\n",
       "      <td>Directed</td>\n",
       "      <td>4658632.0</td>\n",
       "    </tr>\n",
       "  </tbody>\n",
       "</table>\n",
       "<p>1280 rows × 4 columns</p>\n",
       "</div>"
      ],
      "text/plain": [
       "   Source Target      Type      Weight\n",
       "0      27     48  Directed  10552232.0\n",
       "0       1     48  Directed   7392262.0\n",
       "0       0     48  Directed   5120074.0\n",
       "0      43     48  Directed   3537027.0\n",
       "0      17     48  Directed   3249418.0\n",
       "..    ...    ...       ...         ...\n",
       "0       5     17  Directed   6017699.0\n",
       "0      12     17  Directed   5266632.0\n",
       "0      20     17  Directed   5010304.0\n",
       "0      22     17  Directed   4726448.0\n",
       "0      36     17  Directed   4658632.0\n",
       "\n",
       "[1280 rows x 4 columns]"
      ]
     },
     "execution_count": 37,
     "metadata": {},
     "output_type": "execute_result"
    }
   ],
   "source": [
    "data = pd.DataFrame(columns = column_names)\n",
    "for i in list_of_excel_sheets:\n",
    "    counterrere = 0 \n",
    "    if(i[:-5] in world_countires):\n",
    "        # print(i)\n",
    "        counter_of_countries_inserted = 0\n",
    "        sheets = pd.read_excel('Excel_countries/top100/'+i,sheet_name='Product-TimeSeries-Product') \n",
    "        sheets = sheets.sort_values(by=['2019'], ascending=False)\n",
    "        sheets['2019'] =sheets['2019'].round()\n",
    "        for index, row in sheets.iterrows():\n",
    "            if(row['Reporter Name'] in world_countires):\n",
    "                counter_of_countries_inserted = counter_of_countries_inserted + 1\n",
    "                # print(row['Partner Name'], row['Reporter Name'])\n",
    "                df2 = pd.DataFrame({'Target':[country_id['Id'].loc[country_id['Label']==row['Partner Name']].iloc[0]],\n",
    "                        'Source' : [country_id['Id'].loc[country_id['Label']==row['Reporter Name']].iloc[0]] ,\n",
    "                        'Type' : ['Directed'],\n",
    "                        'Weight': [row['2019']]})\n",
    "                data = data.append(df2)\n",
    "                if (counter_of_countries_inserted == 16):\n",
    "                    break\n",
    "data"
   ]
  },
  {
   "cell_type": "markdown",
   "metadata": {},
   "source": [
    "* Finding European countires"
   ]
  },
  {
   "cell_type": "code",
   "execution_count": 38,
   "metadata": {},
   "outputs": [],
   "source": [
    "European = [\n",
    "'Austria','Belgium','Bulgaria','Croatia','Cyprus','Czech Republic','Denmark','Estonia','Finland','France','Germany','Greece','Hungary','Ireland',\n",
    "'Italy','Latvia','Lithuania','Luxembourg','Malta','Netherlands','Poland','Portugal','Romania','Slovak Republic','Slovenia','Spain','Sweden']"
   ]
  },
  {
   "cell_type": "code",
   "execution_count": 39,
   "metadata": {},
   "outputs": [],
   "source": [
    "list_if_european = []\n",
    "for index, row in country_id.iterrows():\n",
    "    if(row.Label in European):\n",
    "        list_if_european.append('Yes')\n",
    "    else:\n",
    "        list_if_european.append('No')\n",
    "list_if_european\n",
    "country_id['isEuropean'] = list_if_european"
   ]
  },
  {
   "cell_type": "markdown",
   "metadata": {},
   "source": [
    "* For later on, it would also be useful to have the continents of each country.  \n",
    "* pycountry library helps us with that. "
   ]
  },
  {
   "cell_type": "code",
   "execution_count": 40,
   "metadata": {},
   "outputs": [],
   "source": [
    "import pycountry_convert as pc\n",
    "continents_of_world_countires = []\n",
    "did_not_find_continent = []\n",
    "for i in world_countires:\n",
    "    try:\n",
    "        country_code = pc.country_name_to_country_alpha2(i, cn_name_format=\"default\")\n",
    "        continent_name = pc.country_alpha2_to_continent_code(country_code)\n",
    "        continents_of_world_countires.append(continent_name)\n",
    "    except:\n",
    "        did_not_find_continent.append(i)\n",
    "        continents_of_world_countires.append(i)"
   ]
  },
  {
   "cell_type": "markdown",
   "metadata": {},
   "source": [
    "* We notice that the library couldnt find 4 of our countries continents, so we map them by hand"
   ]
  },
  {
   "cell_type": "code",
   "execution_count": 41,
   "metadata": {},
   "outputs": [],
   "source": [
    "dic = {'Hong Kong, China':'AS',\n",
    "'Korea, Rep.':'AS',\n",
    "'Egypt, Arab Rep.':'AF',\n",
    "'Serbia, FR(SerbiaMontenegro)':'EU'}\n",
    "continents_of_world_countires = [dic.get(n, n) for n in continents_of_world_countires]"
   ]
  },
  {
   "cell_type": "code",
   "execution_count": 42,
   "metadata": {},
   "outputs": [],
   "source": [
    "country_id['continent'] = continents_of_world_countires"
   ]
  },
  {
   "cell_type": "code",
   "execution_count": 43,
   "metadata": {},
   "outputs": [
    {
     "data": {
      "text/plain": [
       "Counter({'NA': 6, 'AS': 26, 'EU': 32, 'OC': 2, 'SA': 7, 'AF': 7})"
      ]
     },
     "execution_count": 43,
     "metadata": {},
     "output_type": "execute_result"
    }
   ],
   "source": [
    "from collections import Counter\n",
    "Counter(continents_of_world_countires)"
   ]
  },
  {
   "cell_type": "code",
   "execution_count": 44,
   "metadata": {},
   "outputs": [],
   "source": [
    "data.to_excel(\"output.xlsx\", index=False) \n",
    "writer = pd.ExcelWriter('country_id.xlsx', engine='xlsxwriter')\n",
    "country_id.to_excel(writer, sheet_name='country', index=False)\n",
    "writer.save()"
   ]
  }
 ],
 "metadata": {
  "interpreter": {
   "hash": "ba06145bad9867c0d712f5b64352b6bd13a3de0c31040162ed851a24244c78d6"
  },
  "kernelspec": {
   "display_name": "Python 3.8.1 32-bit (system)",
   "language": "python",
   "name": "python3"
  },
  "language_info": {
   "codemirror_mode": {
    "name": "ipython",
    "version": 3
   },
   "file_extension": ".py",
   "mimetype": "text/x-python",
   "name": "python",
   "nbconvert_exporter": "python",
   "pygments_lexer": "ipython3",
   "version": "3.9.0"
  },
  "orig_nbformat": 4
 },
 "nbformat": 4,
 "nbformat_minor": 2
}
